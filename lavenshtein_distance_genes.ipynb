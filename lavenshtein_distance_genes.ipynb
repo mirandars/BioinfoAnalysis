{
 "cells": [
  {
   "cell_type": "code",
   "execution_count": 17,
   "metadata": {},
   "outputs": [],
   "source": [
    "import pandas as pd\n",
    "import matplotlib.pyplot as plt\n",
    "from Bio.Seq import Seq\n",
    "import bioinfo\n",
    "import numpy as np\n",
    "\n",
    "df = bioinfo.gen_df(\"./data/TRIM5ALPHA_complete_PopSet\")"
   ]
  },
  {
   "cell_type": "code",
   "execution_count": 18,
   "metadata": {},
   "outputs": [],
   "source": [
    "strings = df['Sequence'].values"
   ]
  },
  {
   "cell_type": "code",
   "execution_count": 24,
   "metadata": {},
   "outputs": [],
   "source": [
    "dist_matrix = np.empty(shape=(17,17))\n",
    "dist_matrix[:] = np.nan"
   ]
  },
  {
   "cell_type": "code",
   "execution_count": 27,
   "metadata": {},
   "outputs": [
    {
     "name": "stdout",
     "output_type": "stream",
     "text": [
      "0\n",
      "1\n",
      "2\n",
      "3\n",
      "4\n",
      "5\n",
      "6\n",
      "7\n",
      "8\n",
      "9\n",
      "10\n",
      "11\n",
      "12\n",
      "13\n",
      "14\n",
      "15\n",
      "16\n"
     ]
    }
   ],
   "source": [
    "for i in range(17):\n",
    "    print(i)\n",
    "    for j in range(17):\n",
    "        if np.isnan(dist_matrix[i,j]):\n",
    "            dist_matrix[i,j] = bioinfo.lavenshtein_dist(strings[i],strings[j])\n",
    "            dist_matrix[j,i] = dist_matrix[i,j]"
   ]
  },
  {
   "cell_type": "code",
   "execution_count": 28,
   "metadata": {},
   "outputs": [
    {
     "data": {
      "text/plain": [
       "array([[  0.,  71., 151.,  95.,  97., 164., 152., 247., 267., 151.,  86.,\n",
       "        260., 231., 286., 266., 273., 233.],\n",
       "       [ 71.,   0.,  99.,  41.,  43., 108., 102., 217., 221., 100.,  39.,\n",
       "        210., 203., 239., 222., 225., 206.],\n",
       "       [151.,  99.,   0.,  75.,  77.,  54.,  14., 193., 204.,  37.,  89.,\n",
       "        191., 187., 214., 204., 204., 190.],\n",
       "       [ 95.,  41.,  75.,   0.,  15.,  92.,  83., 201., 208.,  83.,  41.,\n",
       "        195., 186., 222., 207., 207., 189.],\n",
       "       [ 97.,  43.,  77.,  15.,   0.,  96.,  87., 207., 213.,  89.,  44.,\n",
       "        200., 192., 223., 213., 211., 194.],\n",
       "       [164., 108.,  54.,  92.,  96.,   0.,  57., 198., 209.,  56., 103.,\n",
       "        194., 189., 217., 205., 206., 193.],\n",
       "       [152., 102.,  14.,  83.,  87.,  57.,   0., 197., 209.,  39.,  90.,\n",
       "        193., 187., 217., 209., 206., 192.],\n",
       "       [247., 217., 193., 201., 207., 198., 197.,   0., 273., 370., 382.,\n",
       "        271., 112., 289., 275., 265., 124.],\n",
       "       [267., 221., 204., 208., 213., 209., 209., 273.,   0., 211., 220.,\n",
       "         83.,  82., 101.,  52.,  81.,  91.],\n",
       "       [151., 100.,  37.,  83.,  89.,  56.,  39., 370., 211.,   0.,  89.,\n",
       "        194., 186., 217., 204., 209., 185.],\n",
       "       [ 86.,  39.,  89.,  41.,  44., 103.,  90., 382., 220.,  89.,   0.,\n",
       "        211., 206., 239., 226., 227., 209.],\n",
       "       [260., 210., 191., 195., 200., 194., 193., 271.,  83., 194., 211.,\n",
       "          0.,  86., 104.,  85.,  58.,  91.],\n",
       "       [231., 203., 187., 186., 192., 189., 187., 112.,  82., 186., 206.,\n",
       "         86.,   0., 257., 243., 237.,  54.],\n",
       "       [286., 239., 214., 222., 223., 217., 217., 289., 101., 217., 239.,\n",
       "        104., 257.,   0., 102., 102., 100.],\n",
       "       [266., 222., 204., 207., 213., 205., 209., 275.,  52., 204., 226.,\n",
       "         85., 243., 102.,   0.,  84.,  89.],\n",
       "       [273., 225., 204., 207., 211., 206., 206., 265.,  81., 209., 227.,\n",
       "         58., 237., 102.,  84.,   0.,  81.],\n",
       "       [233., 206., 190., 189., 194., 193., 192., 124.,  91., 185., 209.,\n",
       "         91.,  54., 100.,  89.,  81.,   0.]])"
      ]
     },
     "execution_count": 28,
     "metadata": {},
     "output_type": "execute_result"
    }
   ],
   "source": [
    "dist_matrix"
   ]
  },
  {
   "cell_type": "code",
   "execution_count": null,
   "metadata": {},
   "outputs": [],
   "source": []
  }
 ],
 "metadata": {
  "kernelspec": {
   "display_name": "Python 3",
   "language": "python",
   "name": "python3"
  },
  "language_info": {
   "codemirror_mode": {
    "name": "ipython",
    "version": 3
   },
   "file_extension": ".py",
   "mimetype": "text/x-python",
   "name": "python",
   "nbconvert_exporter": "python",
   "pygments_lexer": "ipython3",
   "version": "3.7.1"
  }
 },
 "nbformat": 4,
 "nbformat_minor": 2
}
