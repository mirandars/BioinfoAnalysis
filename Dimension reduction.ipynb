{
 "cells": [
  {
   "cell_type": "code",
   "execution_count": 1,
   "metadata": {},
   "outputs": [],
   "source": [
    "from draft import * "
   ]
  },
  {
   "cell_type": "code",
   "execution_count": 2,
   "metadata": {},
   "outputs": [
    {
     "name": "stderr",
     "output_type": "stream",
     "text": [
      "/usr/lib/python3.7/site-packages/sklearn/utils/validation.py:590: DataConversionWarning: Data with input dtype int64 was converted to float64 by StandardScaler.\n",
      "  warnings.warn(msg, DataConversionWarning)\n",
      "/usr/lib/python3.7/site-packages/sklearn/utils/validation.py:590: DataConversionWarning: Data with input dtype int64 was converted to float64 by StandardScaler.\n",
      "  warnings.warn(msg, DataConversionWarning)\n",
      "/usr/lib/python3.7/site-packages/sklearn/utils/validation.py:590: DataConversionWarning: Data with input dtype int64 was converted to float64 by StandardScaler.\n",
      "  warnings.warn(msg, DataConversionWarning)\n",
      "/usr/lib/python3.7/site-packages/sklearn/utils/validation.py:590: DataConversionWarning: Data with input dtype int64 was converted to float64 by StandardScaler.\n",
      "  warnings.warn(msg, DataConversionWarning)\n"
     ]
    },
    {
     "name": "stdout",
     "output_type": "stream",
     "text": [
      "[t-SNE] Computing 89 nearest neighbors...\n",
      "[t-SNE] Indexed 90 samples in 0.000s...\n",
      "[t-SNE] Computed neighbors for 90 samples in 0.007s...\n",
      "[t-SNE] Computed conditional probabilities for sample 90 / 90\n",
      "[t-SNE] Mean sigma: 2.244557\n",
      "[t-SNE] KL divergence after 250 iterations with early exaggeration: 58.595829\n",
      "[t-SNE] KL divergence after 300 iterations: 1.073878\n",
      "[t-SNE] Computing 87 nearest neighbors...\n",
      "[t-SNE] Indexed 88 samples in 0.000s...\n",
      "[t-SNE] Computed neighbors for 88 samples in 0.001s...\n",
      "[t-SNE] Computed conditional probabilities for sample 88 / 88\n",
      "[t-SNE] Mean sigma: 2.218559\n",
      "[t-SNE] KL divergence after 250 iterations with early exaggeration: 59.808868\n",
      "[t-SNE] KL divergence after 300 iterations: 0.920135\n",
      "[t-SNE] Computing 86 nearest neighbors...\n",
      "[t-SNE] Indexed 87 samples in 0.000s...\n",
      "[t-SNE] Computed neighbors for 87 samples in 0.001s...\n",
      "[t-SNE] Computed conditional probabilities for sample 87 / 87\n",
      "[t-SNE] Mean sigma: 2.270892\n",
      "[t-SNE] KL divergence after 250 iterations with early exaggeration: 57.581028\n",
      "[t-SNE] KL divergence after 300 iterations: 0.957365\n",
      "[t-SNE] Computing 86 nearest neighbors...\n",
      "[t-SNE] Indexed 87 samples in 0.000s...\n"
     ]
    },
    {
     "name": "stderr",
     "output_type": "stream",
     "text": [
      "/usr/lib/python3.7/site-packages/sklearn/utils/validation.py:590: DataConversionWarning: Data with input dtype int64 was converted to float64 by StandardScaler.\n",
      "  warnings.warn(msg, DataConversionWarning)\n",
      "/usr/lib/python3.7/site-packages/sklearn/utils/validation.py:590: DataConversionWarning: Data with input dtype int64 was converted to float64 by StandardScaler.\n",
      "  warnings.warn(msg, DataConversionWarning)\n",
      "/usr/lib/python3.7/site-packages/sklearn/utils/validation.py:590: DataConversionWarning: Data with input dtype int64 was converted to float64 by StandardScaler.\n",
      "  warnings.warn(msg, DataConversionWarning)\n",
      "/usr/lib/python3.7/site-packages/sklearn/utils/validation.py:590: DataConversionWarning: Data with input dtype int64 was converted to float64 by StandardScaler.\n",
      "  warnings.warn(msg, DataConversionWarning)\n"
     ]
    },
    {
     "name": "stdout",
     "output_type": "stream",
     "text": [
      "[t-SNE] Computed neighbors for 87 samples in 0.007s...\n",
      "[t-SNE] Computed conditional probabilities for sample 87 / 87\n",
      "[t-SNE] Mean sigma: 2.284311\n",
      "[t-SNE] KL divergence after 250 iterations with early exaggeration: 61.772137\n",
      "[t-SNE] KL divergence after 300 iterations: 1.084627\n",
      "[t-SNE] Computing 86 nearest neighbors...\n",
      "[t-SNE] Indexed 87 samples in 0.000s...\n",
      "[t-SNE] Computed neighbors for 87 samples in 0.005s...\n",
      "[t-SNE] Computed conditional probabilities for sample 87 / 87\n",
      "[t-SNE] Mean sigma: 2.273021\n"
     ]
    },
    {
     "name": "stderr",
     "output_type": "stream",
     "text": [
      "/usr/lib/python3.7/site-packages/sklearn/utils/validation.py:590: DataConversionWarning: Data with input dtype int64 was converted to float64 by StandardScaler.\n",
      "  warnings.warn(msg, DataConversionWarning)\n",
      "/usr/lib/python3.7/site-packages/sklearn/utils/validation.py:590: DataConversionWarning: Data with input dtype int64 was converted to float64 by StandardScaler.\n",
      "  warnings.warn(msg, DataConversionWarning)\n",
      "/usr/lib/python3.7/site-packages/sklearn/utils/validation.py:590: DataConversionWarning: Data with input dtype int64 was converted to float64 by StandardScaler.\n",
      "  warnings.warn(msg, DataConversionWarning)\n",
      "/usr/lib/python3.7/site-packages/sklearn/utils/validation.py:590: DataConversionWarning: Data with input dtype int64 was converted to float64 by StandardScaler.\n",
      "  warnings.warn(msg, DataConversionWarning)\n"
     ]
    },
    {
     "name": "stdout",
     "output_type": "stream",
     "text": [
      "[t-SNE] KL divergence after 250 iterations with early exaggeration: 61.508289\n",
      "[t-SNE] KL divergence after 300 iterations: 1.067636\n",
      "[t-SNE] Computing 86 nearest neighbors...\n",
      "[t-SNE] Indexed 87 samples in 0.000s...\n",
      "[t-SNE] Computed neighbors for 87 samples in 0.016s...\n",
      "[t-SNE] Computed conditional probabilities for sample 87 / 87\n",
      "[t-SNE] Mean sigma: 2.281243\n",
      "[t-SNE] KL divergence after 250 iterations with early exaggeration: 58.291832\n",
      "[t-SNE] KL divergence after 300 iterations: 0.819930\n",
      "[t-SNE] Computing 86 nearest neighbors...\n",
      "[t-SNE] Indexed 87 samples in 0.000s...\n",
      "[t-SNE] Computed neighbors for 87 samples in 0.007s...\n",
      "[t-SNE] Computed conditional probabilities for sample 87 / 87\n",
      "[t-SNE] Mean sigma: 2.285369\n",
      "[t-SNE] KL divergence after 250 iterations with early exaggeration: 61.045292\n",
      "[t-SNE] KL divergence after 300 iterations: 0.988134\n"
     ]
    },
    {
     "name": "stderr",
     "output_type": "stream",
     "text": [
      "/usr/lib/python3.7/site-packages/sklearn/utils/validation.py:590: DataConversionWarning: Data with input dtype int64 was converted to float64 by StandardScaler.\n",
      "  warnings.warn(msg, DataConversionWarning)\n",
      "/usr/lib/python3.7/site-packages/sklearn/utils/validation.py:590: DataConversionWarning: Data with input dtype int64 was converted to float64 by StandardScaler.\n",
      "  warnings.warn(msg, DataConversionWarning)\n",
      "/usr/lib/python3.7/site-packages/sklearn/utils/validation.py:590: DataConversionWarning: Data with input dtype int64 was converted to float64 by StandardScaler.\n",
      "  warnings.warn(msg, DataConversionWarning)\n",
      "/usr/lib/python3.7/site-packages/sklearn/utils/validation.py:590: DataConversionWarning: Data with input dtype int64 was converted to float64 by StandardScaler.\n",
      "  warnings.warn(msg, DataConversionWarning)\n"
     ]
    },
    {
     "name": "stdout",
     "output_type": "stream",
     "text": [
      "[t-SNE] Computing 93 nearest neighbors...\n",
      "[t-SNE] Indexed 94 samples in 0.000s...\n",
      "[t-SNE] Computed neighbors for 94 samples in 0.006s...\n",
      "[t-SNE] Computed conditional probabilities for sample 94 / 94\n",
      "[t-SNE] Mean sigma: 2.215267\n",
      "[t-SNE] KL divergence after 250 iterations with early exaggeration: 53.687500\n",
      "[t-SNE] KL divergence after 300 iterations: 0.988936\n",
      "[t-SNE] Computing 86 nearest neighbors...\n",
      "[t-SNE] Indexed 87 samples in 0.000s...\n",
      "[t-SNE] Computed neighbors for 87 samples in 0.014s...\n",
      "[t-SNE] Computed conditional probabilities for sample 87 / 87"
     ]
    },
    {
     "name": "stderr",
     "output_type": "stream",
     "text": [
      "/usr/lib/python3.7/site-packages/sklearn/utils/validation.py:590: DataConversionWarning: Data with input dtype int64 was converted to float64 by StandardScaler.\n",
      "  warnings.warn(msg, DataConversionWarning)\n",
      "/usr/lib/python3.7/site-packages/sklearn/utils/validation.py:590: DataConversionWarning: Data with input dtype int64 was converted to float64 by StandardScaler.\n",
      "  warnings.warn(msg, DataConversionWarning)\n",
      "/usr/lib/python3.7/site-packages/sklearn/utils/validation.py:590: DataConversionWarning: Data with input dtype int64 was converted to float64 by StandardScaler.\n",
      "  warnings.warn(msg, DataConversionWarning)\n",
      "/usr/lib/python3.7/site-packages/sklearn/utils/validation.py:590: DataConversionWarning: Data with input dtype int64 was converted to float64 by StandardScaler.\n",
      "  warnings.warn(msg, DataConversionWarning)\n"
     ]
    },
    {
     "name": "stdout",
     "output_type": "stream",
     "text": [
      "\n",
      "[t-SNE] Mean sigma: 2.187203\n",
      "[t-SNE] KL divergence after 250 iterations with early exaggeration: 59.016819\n",
      "[t-SNE] KL divergence after 300 iterations: 0.967582\n",
      "[t-SNE] Computing 86 nearest neighbors...\n",
      "[t-SNE] Indexed 87 samples in 0.000s...\n",
      "[t-SNE] Computed neighbors for 87 samples in 0.021s...\n",
      "[t-SNE] Computed conditional probabilities for sample 87 / 87\n",
      "[t-SNE] Mean sigma: 2.269418\n",
      "[t-SNE] KL divergence after 250 iterations with early exaggeration: 59.485172\n",
      "[t-SNE] KL divergence after 300 iterations: 1.146667\n",
      "[t-SNE] Computing 86 nearest neighbors...\n",
      "[t-SNE] Indexed 87 samples in 0.000s...\n",
      "[t-SNE] Computed neighbors for 87 samples in 0.017s...\n",
      "[t-SNE] Computed conditional probabilities for sample 87 / 87\n",
      "[t-SNE] Mean sigma: 2.281572\n",
      "[t-SNE] KL divergence after 250 iterations with early exaggeration: 58.481358\n",
      "[t-SNE] KL divergence after 300 iterations: 0.917164\n"
     ]
    },
    {
     "name": "stderr",
     "output_type": "stream",
     "text": [
      "/usr/lib/python3.7/site-packages/sklearn/utils/validation.py:590: DataConversionWarning: Data with input dtype int64 was converted to float64 by StandardScaler.\n",
      "  warnings.warn(msg, DataConversionWarning)\n",
      "/usr/lib/python3.7/site-packages/sklearn/utils/validation.py:590: DataConversionWarning: Data with input dtype int64 was converted to float64 by StandardScaler.\n",
      "  warnings.warn(msg, DataConversionWarning)\n",
      "/usr/lib/python3.7/site-packages/sklearn/utils/validation.py:590: DataConversionWarning: Data with input dtype int64 was converted to float64 by StandardScaler.\n",
      "  warnings.warn(msg, DataConversionWarning)\n",
      "/usr/lib/python3.7/site-packages/sklearn/utils/validation.py:590: DataConversionWarning: Data with input dtype int64 was converted to float64 by StandardScaler.\n",
      "  warnings.warn(msg, DataConversionWarning)\n"
     ]
    },
    {
     "name": "stdout",
     "output_type": "stream",
     "text": [
      "[t-SNE] Computing 86 nearest neighbors...\n",
      "[t-SNE] Indexed 87 samples in 0.000s...\n",
      "[t-SNE] Computed neighbors for 87 samples in 0.019s...\n",
      "[t-SNE] Computed conditional probabilities for sample 87 / 87\n",
      "[t-SNE] Mean sigma: 2.150890\n",
      "[t-SNE] KL divergence after 250 iterations with early exaggeration: 56.452915\n",
      "[t-SNE] KL divergence after 300 iterations: 0.860316\n",
      "[t-SNE] Computing 93 nearest neighbors...\n",
      "[t-SNE] Indexed 94 samples in 0.000s...\n",
      "[t-SNE] Computed neighbors for 94 samples in 0.005s...\n",
      "[t-SNE] Computed conditional probabilities for sample 94 / 94\n",
      "[t-SNE] Mean sigma: 2.116817\n"
     ]
    },
    {
     "name": "stderr",
     "output_type": "stream",
     "text": [
      "/usr/lib/python3.7/site-packages/sklearn/utils/validation.py:590: DataConversionWarning: Data with input dtype int64 was converted to float64 by StandardScaler.\n",
      "  warnings.warn(msg, DataConversionWarning)\n",
      "/usr/lib/python3.7/site-packages/sklearn/utils/validation.py:590: DataConversionWarning: Data with input dtype int64 was converted to float64 by StandardScaler.\n",
      "  warnings.warn(msg, DataConversionWarning)\n",
      "/usr/lib/python3.7/site-packages/sklearn/utils/validation.py:590: DataConversionWarning: Data with input dtype int64 was converted to float64 by StandardScaler.\n",
      "  warnings.warn(msg, DataConversionWarning)\n",
      "/usr/lib/python3.7/site-packages/sklearn/utils/validation.py:590: DataConversionWarning: Data with input dtype int64 was converted to float64 by StandardScaler.\n",
      "  warnings.warn(msg, DataConversionWarning)\n"
     ]
    },
    {
     "name": "stdout",
     "output_type": "stream",
     "text": [
      "[t-SNE] KL divergence after 250 iterations with early exaggeration: 53.834591\n",
      "[t-SNE] KL divergence after 300 iterations: 0.791490\n",
      "[t-SNE] Computing 86 nearest neighbors...\n",
      "[t-SNE] Indexed 87 samples in 0.000s...\n",
      "[t-SNE] Computed neighbors for 87 samples in 0.001s...\n",
      "[t-SNE] Computed conditional probabilities for sample 87 / 87\n",
      "[t-SNE] Mean sigma: 2.160480\n",
      "[t-SNE] KL divergence after 250 iterations with early exaggeration: 58.615120\n",
      "[t-SNE] KL divergence after 300 iterations: 0.865004\n",
      "[t-SNE] Computing 86 nearest neighbors...\n",
      "[t-SNE] Indexed 87 samples in 0.000s...\n"
     ]
    },
    {
     "name": "stderr",
     "output_type": "stream",
     "text": [
      "/usr/lib/python3.7/site-packages/sklearn/utils/validation.py:590: DataConversionWarning: Data with input dtype int64 was converted to float64 by StandardScaler.\n",
      "  warnings.warn(msg, DataConversionWarning)\n",
      "/usr/lib/python3.7/site-packages/sklearn/utils/validation.py:590: DataConversionWarning: Data with input dtype int64 was converted to float64 by StandardScaler.\n",
      "  warnings.warn(msg, DataConversionWarning)\n",
      "/usr/lib/python3.7/site-packages/sklearn/utils/validation.py:590: DataConversionWarning: Data with input dtype int64 was converted to float64 by StandardScaler.\n",
      "  warnings.warn(msg, DataConversionWarning)\n",
      "/usr/lib/python3.7/site-packages/sklearn/utils/validation.py:590: DataConversionWarning: Data with input dtype int64 was converted to float64 by StandardScaler.\n",
      "  warnings.warn(msg, DataConversionWarning)\n"
     ]
    },
    {
     "name": "stdout",
     "output_type": "stream",
     "text": [
      "[t-SNE] Computed neighbors for 87 samples in 0.001s...\n",
      "[t-SNE] Computed conditional probabilities for sample 87 / 87\n",
      "[t-SNE] Mean sigma: 2.210372\n",
      "[t-SNE] KL divergence after 250 iterations with early exaggeration: 60.240513\n",
      "[t-SNE] KL divergence after 300 iterations: 1.020855\n",
      "[t-SNE] Computing 86 nearest neighbors...\n",
      "[t-SNE] Indexed 87 samples in 0.000s...\n",
      "[t-SNE] Computed neighbors for 87 samples in 0.001s...\n",
      "[t-SNE] Computed conditional probabilities for sample 87 / 87\n",
      "[t-SNE] Mean sigma: 2.125044\n",
      "[t-SNE] KL divergence after 250 iterations with early exaggeration: 57.838425\n",
      "[t-SNE] KL divergence after 300 iterations: 0.810912\n",
      "[t-SNE] Computing 93 nearest neighbors...\n",
      "[t-SNE] Indexed 94 samples in 0.000s...\n",
      "[t-SNE] Computed neighbors for 94 samples in 0.001s...\n",
      "[t-SNE] Computed conditional probabilities for sample 94 / 94\n",
      "[t-SNE] Mean sigma: 2.121493\n",
      "[t-SNE] KL divergence after 250 iterations with early exaggeration: 58.884949\n",
      "[t-SNE] KL divergence after 300 iterations: 0.961868\n"
     ]
    },
    {
     "name": "stderr",
     "output_type": "stream",
     "text": [
      "/usr/lib/python3.7/site-packages/sklearn/utils/validation.py:590: DataConversionWarning: Data with input dtype int64 was converted to float64 by StandardScaler.\n",
      "  warnings.warn(msg, DataConversionWarning)\n",
      "/usr/lib/python3.7/site-packages/sklearn/utils/validation.py:590: DataConversionWarning: Data with input dtype int64 was converted to float64 by StandardScaler.\n",
      "  warnings.warn(msg, DataConversionWarning)\n"
     ]
    }
   ],
   "source": [
    "species_list = gen_species(clean_data(\"./data/TRIM5ALPHA_complete_PopSet\"),True)"
   ]
  },
  {
   "cell_type": "code",
   "execution_count": 3,
   "metadata": {},
   "outputs": [
    {
     "data": {
      "text/plain": [
       "[<draft.Species at 0x7f1ca1663f28>,\n",
       " <draft.Species at 0x7f1ca21f7438>,\n",
       " <draft.Species at 0x7f1ca1692eb8>,\n",
       " <draft.Species at 0x7f1ca35685c0>,\n",
       " <draft.Species at 0x7f1ca3556a58>,\n",
       " <draft.Species at 0x7f1ca1663fd0>,\n",
       " <draft.Species at 0x7f1ca1663f60>,\n",
       " <draft.Species at 0x7f1ca164c8d0>,\n",
       " <draft.Species at 0x7f1ca1692908>,\n",
       " <draft.Species at 0x7f1ca1692a58>,\n",
       " <draft.Species at 0x7f1ca164ccc0>,\n",
       " <draft.Species at 0x7f1ca1673828>,\n",
       " <draft.Species at 0x7f1ca1673978>,\n",
       " <draft.Species at 0x7f1ca1692a20>,\n",
       " <draft.Species at 0x7f1ca1692e80>,\n",
       " <draft.Species at 0x7f1ca1673048>,\n",
       " <draft.Species at 0x7f1ca1692c50>]"
      ]
     },
     "execution_count": 3,
     "metadata": {},
     "output_type": "execute_result"
    }
   ],
   "source": [
    "species_list"
   ]
  },
  {
   "cell_type": "code",
   "execution_count": 5,
   "metadata": {},
   "outputs": [
    {
     "data": {
      "text/plain": [
       "array([[-2.00918772e+00,  2.92883706e-01],\n",
       "       [-1.60755998e+00, -2.54266127e+00],\n",
       "       [-1.16074891e+00, -2.69283033e+00],\n",
       "       [-2.12404658e+00, -4.40370853e+00],\n",
       "       [-1.61479394e+00, -1.96726614e+00],\n",
       "       [-1.89198520e+00, -3.22950939e-01],\n",
       "       [ 9.90896785e-01, -2.34725457e+00],\n",
       "       [-1.92025568e+00, -1.51609435e+00],\n",
       "       [-1.77614834e+00, -1.13506028e-01],\n",
       "       [-1.30865192e+00, -4.33978002e-01],\n",
       "       [-6.62353473e-01, -2.54271752e+00],\n",
       "       [-2.38773251e-01, -2.05506258e+00],\n",
       "       [-1.14511348e+00,  1.39893734e-02],\n",
       "       [-1.40432136e+00, -1.40067241e+00],\n",
       "       [-1.05255602e+00, -1.34100590e+00],\n",
       "       [-2.07230654e+00, -2.23232343e+00],\n",
       "       [-1.60885622e+00, -1.35894793e-01],\n",
       "       [ 5.87667119e-03, -7.39768675e-01],\n",
       "       [ 3.59211750e+00,  8.90818269e-01],\n",
       "       [ 3.59211750e+00,  8.90818269e-01],\n",
       "       [ 3.59211750e+00,  8.90818269e-01],\n",
       "       [ 3.24215410e+00,  1.55544326e-01],\n",
       "       [-6.09453374e-01, -3.72861520e+00],\n",
       "       [ 5.86108475e-01, -5.01723843e+00],\n",
       "       [-2.25978639e-01, -2.28512958e+00],\n",
       "       [ 8.51091327e-01, -1.41939979e+00],\n",
       "       [ 3.59211750e+00,  8.90818269e-01],\n",
       "       [ 3.59211750e+00,  8.90818269e-01],\n",
       "       [ 3.59211750e+00,  8.90818269e-01],\n",
       "       [ 3.59211750e+00,  8.90818269e-01],\n",
       "       [-2.02796126e+00,  3.99870456e+00],\n",
       "       [-1.12846225e+00, -1.50442936e+00],\n",
       "       [-5.85200217e-01, -3.05107977e+00],\n",
       "       [-5.00378401e-01, -3.54334846e+00],\n",
       "       [ 3.37573083e-01, -2.26218687e+00],\n",
       "       [-1.64819834e+00,  5.42414820e-01],\n",
       "       [-1.33124368e+00, -3.04748695e+00],\n",
       "       [-2.60225135e-01, -2.55109945e+00],\n",
       "       [-1.40706894e+00, -1.28645837e+00],\n",
       "       [ 1.49205911e+00, -2.73181933e+00],\n",
       "       [ 3.59211750e+00,  8.90818269e-01],\n",
       "       [ 3.59211750e+00,  8.90818269e-01],\n",
       "       [ 3.59211750e+00,  8.90818269e-01],\n",
       "       [ 2.90082685e+00,  5.03819001e-01],\n",
       "       [-2.46551516e-02,  1.88179536e+00],\n",
       "       [ 3.59211750e+00,  8.90818269e-01],\n",
       "       [ 3.59211750e+00,  8.90818269e-01],\n",
       "       [ 3.59211750e+00,  8.90818269e-01],\n",
       "       [ 3.37248539e+00,  6.89706394e-01],\n",
       "       [-1.04451038e-01, -2.91759986e+00],\n",
       "       [-8.92351774e-01,  4.09283549e+00],\n",
       "       [-1.13734730e+00, -2.02821374e+00],\n",
       "       [-1.14604510e+00,  8.78148119e-01],\n",
       "       [ 3.59211750e+00,  8.90818269e-01],\n",
       "       [ 3.59211750e+00,  8.90818269e-01],\n",
       "       [ 3.59211750e+00,  8.90818269e-01],\n",
       "       [ 3.59211750e+00,  8.90818269e-01],\n",
       "       [-5.82488865e-01,  1.09390921e-01],\n",
       "       [ 1.72725655e+00,  9.59269991e-01],\n",
       "       [ 3.59211750e+00,  8.90818269e-01],\n",
       "       [ 3.59211750e+00,  8.90818269e-01],\n",
       "       [ 3.59211750e+00,  8.90818269e-01],\n",
       "       [ 1.76860730e+00, -5.48888309e-01],\n",
       "       [-1.80637830e+00,  1.97101938e+00],\n",
       "       [-3.95872412e-01, -1.72688106e+00],\n",
       "       [-1.38006813e+00, -1.30923947e+00],\n",
       "       [-2.87369691e+00,  1.28693180e+00],\n",
       "       [-2.52386091e+00,  4.23927747e+00],\n",
       "       [-3.38316525e+00,  1.59051262e+00],\n",
       "       [-2.07210518e+00,  1.58686102e+00],\n",
       "       [-3.01591928e+00,  6.12189619e+00],\n",
       "       [-3.00289803e+00, -6.37283250e-01],\n",
       "       [-1.86730590e+00,  1.62619345e+00],\n",
       "       [-6.09137907e-01, -1.46222044e+00],\n",
       "       [-1.81888638e+00, -1.07240216e+00],\n",
       "       [-3.47506863e+00,  3.18486044e+00],\n",
       "       [-1.36230559e+00,  3.81962482e+00],\n",
       "       [-3.25295165e+00,  3.94991028e+00],\n",
       "       [-1.82111549e+00,  1.64996837e+00],\n",
       "       [-1.87164752e+00,  7.40912399e-02],\n",
       "       [-1.89634351e+00,  1.71286090e+00],\n",
       "       [-1.20631856e+00, -1.46069932e-02],\n",
       "       [-1.89733646e+00, -1.52970839e+00],\n",
       "       [-1.90147376e+00, -9.53172116e-01],\n",
       "       [-2.63172891e+00,  3.60455605e+00],\n",
       "       [-1.99832972e+00,  2.30190342e+00],\n",
       "       [-1.75738993e+00,  1.48872929e+00],\n",
       "       [-2.35069765e+00,  3.64518607e+00],\n",
       "       [-1.53259518e+00, -1.89019798e+00],\n",
       "       [ 1.79647959e+00, -4.82849469e-01]])"
      ]
     },
     "execution_count": 5,
     "metadata": {},
     "output_type": "execute_result"
    }
   ],
   "source": [
    "species_list[0].principal_components"
   ]
  },
  {
   "cell_type": "code",
   "execution_count": 6,
   "metadata": {},
   "outputs": [
    {
     "data": {
      "text/plain": [
       "array([[ 10.882802  , -41.104992  ],\n",
       "       [ 32.478104  ,  27.274738  ],\n",
       "       [ -1.471341  ,  23.190798  ],\n",
       "       [ -2.1693513 , -32.832737  ],\n",
       "       [  9.941578  ,  34.701866  ],\n",
       "       [ 26.963696  , -18.639334  ],\n",
       "       [-52.478287  ,  43.867577  ],\n",
       "       [  1.3752522 ,  10.491476  ],\n",
       "       [ 19.815874  ,   3.2305105 ],\n",
       "       [  3.350799  ,  28.007685  ],\n",
       "       [-15.5350275 ,  14.977904  ],\n",
       "       [-19.47196   ,  23.776474  ],\n",
       "       [-15.834972  ,   2.0386248 ],\n",
       "       [-18.976156  ,  -5.6882153 ],\n",
       "       [ 12.911867  ,  26.519003  ],\n",
       "       [-34.050396  ,   7.3966074 ],\n",
       "       [  7.9021854 , -15.768495  ],\n",
       "       [ 20.540384  ,  24.274754  ],\n",
       "       [ -4.511216  , -12.411588  ],\n",
       "       [  1.5859077 ,  16.321728  ],\n",
       "       [  3.3992677 , -11.726377  ],\n",
       "       [ -6.021265  ,  10.41864   ],\n",
       "       [-26.573763  ,  13.214767  ],\n",
       "       [ 19.229004  , -20.733042  ],\n",
       "       [-15.113535  ,  28.063982  ],\n",
       "       [ 24.29637   ,  -1.4689646 ],\n",
       "       [ -5.6324296 ,  -6.579245  ],\n",
       "       [ -4.6812906 ,   5.4766636 ],\n",
       "       [  3.282792  ,  -1.5382321 ],\n",
       "       [-28.457775  ,  47.805458  ],\n",
       "       [-22.174927  , -15.960267  ],\n",
       "       [ -1.107327  ,  35.648018  ],\n",
       "       [ 34.361057  , -15.602741  ],\n",
       "       [-13.728093  ,  40.101833  ],\n",
       "       [ -6.817306  , -25.865494  ],\n",
       "       [-42.4907    ,  -4.1566796 ],\n",
       "       [ 22.017529  ,  32.758717  ],\n",
       "       [-15.089748  , -20.301525  ],\n",
       "       [ 38.6391    ,   1.5846146 ],\n",
       "       [-20.546532  ,  10.666962  ],\n",
       "       [ -2.357889  ,  -0.9476174 ],\n",
       "       [-29.357315  ,  -5.063491  ],\n",
       "       [ -9.211794  ,   3.1109738 ],\n",
       "       [ -0.25186196,   3.7992535 ],\n",
       "       [-11.930382  ,  20.06693   ],\n",
       "       [  7.1251984 ,   1.5570368 ],\n",
       "       [ -4.9869094 ,  15.493981  ],\n",
       "       [ 10.412597  , -21.621143  ],\n",
       "       [  8.11242   ,  12.087087  ],\n",
       "       [-39.329506  ,  20.847906  ],\n",
       "       [-25.894043  , -23.805723  ],\n",
       "       [ 15.919986  ,   9.969479  ],\n",
       "       [ -7.0826116 ,  27.122942  ],\n",
       "       [  3.7288597 ,   6.351912  ],\n",
       "       [  8.912878  ,   6.8956413 ],\n",
       "       [ 12.891737  ,   3.1687188 ],\n",
       "       [ 61.57885   ,   2.4616873 ],\n",
       "       [ 11.743536  ,  -2.2114959 ],\n",
       "       [-13.182259  ,   8.357416  ],\n",
       "       [ -8.472383  ,  -2.0771372 ],\n",
       "       [ 13.479379  ,  -6.8920784 ],\n",
       "       [  6.922507  ,  -6.3234754 ],\n",
       "       [ 21.196608  ,  -7.2403884 ],\n",
       "       [-29.887978  , -30.606619  ],\n",
       "       [ 60.050247  , -12.50355   ],\n",
       "       [ 22.95194   ,   9.02255   ],\n",
       "       [ 39.19434   ,  14.141357  ],\n",
       "       [-25.462782  ,  37.17076   ],\n",
       "       [ 30.593447  ,  17.927633  ],\n",
       "       [-31.018078  , -19.064714  ],\n",
       "       [-28.383556  ,  33.34798   ],\n",
       "       [-24.596191  ,  -8.11007   ],\n",
       "       [-27.533304  ,  22.160347  ],\n",
       "       [  2.8810635 , -23.130852  ],\n",
       "       [-24.349216  ,   3.5205972 ],\n",
       "       [-10.030266  , -73.85312   ],\n",
       "       [-19.07499   , -30.346035  ],\n",
       "       [  3.605916  ,  45.52013   ],\n",
       "       [ 42.184902  ,  -9.54467   ],\n",
       "       [ 14.602311  ,  17.20435   ],\n",
       "       [ 16.450811  ,  42.921314  ],\n",
       "       [ 22.269453  ,  16.9377    ],\n",
       "       [ 30.57953   ,  -5.69194   ],\n",
       "       [-13.448828  ,  -7.1711082 ],\n",
       "       [ 31.474672  ,   7.407238  ],\n",
       "       [-11.069505  , -15.244784  ],\n",
       "       [  7.5471215 ,  19.510637  ],\n",
       "       [ -0.34937933,  -6.4745126 ],\n",
       "       [ 18.557055  , -29.094086  ],\n",
       "       [ 16.19793   , -11.917399  ]], dtype=float32)"
      ]
     },
     "execution_count": 6,
     "metadata": {},
     "output_type": "execute_result"
    }
   ],
   "source": [
    "species_list[0].tsne_results"
   ]
  },
  {
   "cell_type": "code",
   "execution_count": 7,
   "metadata": {},
   "outputs": [
    {
     "data": {
      "image/png": "[encoded data removed]",
      "text/plain": [
       "<Figure size 432x288 with 1 Axes>"
      ]
     },
     "metadata": {
      "needs_background": "light"
     },
     "output_type": "display_data"
    }
   ],
   "source": [
    "kmeans_plot(2,species_list[0].principal_components)"
   ]
  },
  {
   "cell_type": "code",
   "execution_count": 11,
   "metadata": {},
   "outputs": [
    {
     "data": {
      "image/png": "[encoded data removed]",
      "text/plain": [
       "<Figure size 432x288 with 1 Axes>"
      ]
     },
     "metadata": {
      "needs_background": "light"
     },
     "output_type": "display_data"
    }
   ],
   "source": [
    "kmeans_plot(2,species_list[0].tsne_results)"
   ]
  },
  {
   "cell_type": "code",
   "execution_count": null,
   "metadata": {},
   "outputs": [],
   "source": []
  }
 ],
 "metadata": {
  "kernelspec": {
   "display_name": "Python 3",
   "language": "python",
   "name": "python3"
  },
  "language_info": {
   "codemirror_mode": {
    "name": "ipython",
    "version": 3
   },
   "file_extension": ".py",
   "mimetype": "text/x-python",
   "name": "python",
   "nbconvert_exporter": "python",
   "pygments_lexer": "ipython3",
   "version": "3.7.1"
  }
 },
 "nbformat": 4,
 "nbformat_minor": 2
}
