{
 "cells": [
  {
   "cell_type": "code",
   "execution_count": 2,
   "metadata": {},
   "outputs": [],
   "source": [
    "from Bio.Align.Applications import ClustalwCommandline\n",
    "import os\n",
    "\n"
   ]
  },
  {
   "cell_type": "code",
   "execution_count": null,
   "metadata": {},
   "outputs": [],
   "source": []
  },
  {
   "cell_type": "code",
   "execution_count": 3,
   "metadata": {},
   "outputs": [],
   "source": [
    "in_file = \"./data/TRIM5ALPHA_complete_PopSet\"\n",
    "cline = ClustalwCommandline(\"clustalw\", infile = in_file)"
   ]
  },
  {
   "cell_type": "code",
   "execution_count": 4,
   "metadata": {},
   "outputs": [
    {
     "data": {
      "text/plain": [
       "('\\n\\n\\n CLUSTAL 2.1 Multiple Sequence Alignments\\n\\n\\nSequence format is Pearson\\nSequence 1: AY843504.1  2148 bp\\nSequence 2: AY843505.1  2094 bp\\nSequence 3: AY843506.1  2082 bp\\nSequence 4: AY843507.1  2088 bp\\nSequence 5: AY843508.1  2088 bp\\nSequence 6: AY843509.1  2085 bp\\nSequence 7: AY843510.1  2082 bp\\nSequence 8: AY843511.1  2256 bp\\nSequence 9: AY843512.1  2085 bp\\nSequence 10: AY843513.1  2082 bp\\nSequence 11: AY843514.1  2088 bp\\nSequence 12: AY843515.1  2085 bp\\nSequence 13: AY843516.1  2244 bp\\nSequence 14: AY843517.1  2085 bp\\nSequence 15: AY843518.1  2085 bp\\nSequence 16: AY843519.1  2085 bp\\nSequence 17: AY843520.1  2244 bp\\nStart of Pairwise alignments\\nAligning...\\n\\nSequences (1:2) Aligned. Score:  98\\nSequences (1:3) Aligned. Score:  95\\nSequences (1:4) Aligned. Score:  98\\nSequences (1:5) Aligned. Score:  97\\nSequences (1:6) Aligned. Score:  94\\nSequences (1:7) Aligned. Score:  95\\nSequences (1:8) Aligned. Score:  85\\nSequences (1:9) Aligned. Score:  88\\nSequences (1:10) Aligned. Score:  95\\nSequences (1:11) Aligned. Score:  98\\nSequences (1:12) Aligned. Score:  88\\nSequences (1:13) Aligned. Score:  86\\nSequences (1:14) Aligned. Score:  87\\nSequences (1:15) Aligned. Score:  88\\nSequences (1:16) Aligned. Score:  88\\nSequences (1:17) Aligned. Score:  86\\nSequences (2:3) Aligned. Score:  95\\nSequences (2:4) Aligned. Score:  98\\nSequences (2:5) Aligned. Score:  98\\nSequences (2:6) Aligned. Score:  94\\nSequences (2:7) Aligned. Score:  95\\nSequences (2:8) Aligned. Score:  86\\nSequences (2:9) Aligned. Score:  87\\nSequences (2:10) Aligned. Score:  95\\nSequences (2:11) Aligned. Score:  98\\nSequences (2:12) Aligned. Score:  88\\nSequences (2:13) Aligned. Score:  88\\nSequences (2:14) Aligned. Score:  87\\nSequences (2:15) Aligned. Score:  88\\nSequences (2:16) Aligned. Score:  88\\nSequences (2:17) Aligned. Score:  87\\nSequences (3:4) Aligned. Score:  96\\nSequences (3:5) Aligned. Score:  96\\nSequences (3:6) Aligned. Score:  97\\nSequences (3:7) Aligned. Score:  99\\nSequences (3:8) Aligned. Score:  88\\nSequences (3:9) Aligned. Score:  89\\nSequences (3:10) Aligned. Score:  98\\nSequences (3:11) Aligned. Score:  95\\nSequences (3:12) Aligned. Score:  89\\nSequences (3:13) Aligned. Score:  89\\nSequences (3:14) Aligned. Score:  88\\nSequences (3:15) Aligned. Score:  88\\nSequences (3:16) Aligned. Score:  88\\nSequences (3:17) Aligned. Score:  89\\nSequences (4:5) Aligned. Score:  99\\nSequences (4:6) Aligned. Score:  95\\nSequences (4:7) Aligned. Score:  96\\nSequences (4:8) Aligned. Score:  87\\nSequences (4:9) Aligned. Score:  88\\nSequences (4:10) Aligned. Score:  96\\nSequences (4:11) Aligned. Score:  97\\nSequences (4:12) Aligned. Score:  88\\nSequences (4:13) Aligned. Score:  88\\nSequences (4:14) Aligned. Score:  87\\nSequences (4:15) Aligned. Score:  88\\nSequences (4:16) Aligned. Score:  88\\nSequences (4:17) Aligned. Score:  88\\nSequences (5:6) Aligned. Score:  95\\nSequences (5:7) Aligned. Score:  95\\nSequences (5:8) Aligned. Score:  87\\nSequences (5:9) Aligned. Score:  88\\nSequences (5:10) Aligned. Score:  95\\nSequences (5:11) Aligned. Score:  97\\nSequences (5:12) Aligned. Score:  88\\nSequences (5:13) Aligned. Score:  88\\nSequences (5:14) Aligned. Score:  87\\nSequences (5:15) Aligned. Score:  88\\nSequences (5:16) Aligned. Score:  88\\nSequences (5:17) Aligned. Score:  88\\nSequences (6:7) Aligned. Score:  97\\nSequences (6:8) Aligned. Score:  88\\nSequences (6:9) Aligned. Score:  88\\nSequences (6:10) Aligned. Score:  97\\nSequences (6:11) Aligned. Score:  94\\nSequences (6:12) Aligned. Score:  88\\nSequences (6:13) Aligned. Score:  88\\nSequences (6:14) Aligned. Score:  87\\nSequences (6:15) Aligned. Score:  88\\nSequences (6:16) Aligned. Score:  88\\nSequences (6:17) Aligned. Score:  88\\nSequences (7:8) Aligned. Score:  88\\nSequences (7:9) Aligned. Score:  88\\nSequences (7:10) Aligned. Score:  98\\nSequences (7:11) Aligned. Score:  95\\nSequences (7:12) Aligned. Score:  89\\nSequences (7:13) Aligned. Score:  89\\nSequences (7:14) Aligned. Score:  88\\nSequences (7:15) Aligned. Score:  88\\nSequences (7:16) Aligned. Score:  88\\nSequences (7:17) Aligned. Score:  88\\nSequences (8:9) Aligned. Score:  94\\nSequences (8:10) Aligned. Score:  88\\nSequences (8:11) Aligned. Score:  87\\nSequences (8:12) Aligned. Score:  94\\nSequences (8:13) Aligned. Score:  95\\nSequences (8:14) Aligned. Score:  93\\nSequences (8:15) Aligned. Score:  94\\nSequences (8:16) Aligned. Score:  94\\nSequences (8:17) Aligned. Score:  94\\nSequences (9:10) Aligned. Score:  88\\nSequences (9:11) Aligned. Score:  87\\nSequences (9:12) Aligned. Score:  95\\nSequences (9:13) Aligned. Score:  95\\nSequences (9:14) Aligned. Score:  94\\nSequences (9:15) Aligned. Score:  97\\nSequences (9:16) Aligned. Score:  95\\nSequences (9:17) Aligned. Score:  94\\nSequences (10:11) Aligned. Score:  95\\nSequences (10:12) Aligned. Score:  88\\nSequences (10:13) Aligned. Score:  89\\nSequences (10:14) Aligned. Score:  88\\nSequences (10:15) Aligned. Score:  88\\nSequences (10:16) Aligned. Score:  88\\nSequences (10:17) Aligned. Score:  89\\nSequences (11:12) Aligned. Score:  87\\nSequences (11:13) Aligned. Score:  87\\nSequences (11:14) Aligned. Score:  86\\nSequences (11:15) Aligned. Score:  87\\nSequences (11:16) Aligned. Score:  87\\nSequences (11:17) Aligned. Score:  87\\nSequences (12:13) Aligned. Score:  95\\nSequences (12:14) Aligned. Score:  94\\nSequences (12:15) Aligned. Score:  95\\nSequences (12:16) Aligned. Score:  97\\nSequences (12:17) Aligned. Score:  95\\nSequences (13:14) Aligned. Score:  94\\nSequences (13:15) Aligned. Score:  95\\nSequences (13:16) Aligned. Score:  95\\nSequences (13:17) Aligned. Score:  97\\nSequences (14:15) Aligned. Score:  94\\nSequences (14:16) Aligned. Score:  94\\nSequences (14:17) Aligned. Score:  94\\nSequences (15:16) Aligned. Score:  95\\nSequences (15:17) Aligned. Score:  94\\nSequences (16:17) Aligned. Score:  95\\nGuide tree file created:   [./data/TRIM5ALPHA_complete_PopSet.dnd]\\n\\nThere are 16 groups\\nStart of Multiple Alignment\\n\\nAligning...\\nGroup 1: Sequences:   2      Score:39406\\nGroup 2: Sequences:   2      Score:38776\\nGroup 3: Sequences:   4      Score:38835\\nGroup 4: Sequences:   2      Score:39053\\nGroup 5: Sequences:   3      Score:38981\\nGroup 6: Sequences:   2      Score:39520\\nGroup 7: Sequences:   5      Score:38912\\nGroup 8: Sequences:   9      Score:37844\\nGroup 9: Sequences:   2      Score:41980\\nGroup 10: Sequences:   3      Score:40620\\nGroup 11: Sequences:   2      Score:38893\\nGroup 12: Sequences:   2      Score:38940\\nGroup 13: Sequences:   4      Score:38458\\nGroup 14: Sequences:   5      Score:38180\\nGroup 15: Sequences:   8      Score:36626\\nGroup 16: Sequences:  17      Score:34218\\nAlignment Score 1708030\\n\\nCLUSTAL-Alignment file created  [./data/TRIM5ALPHA_complete_PopSet.aln]\\n\\n',\n",
       " '')"
      ]
     },
     "execution_count": 4,
     "metadata": {},
     "output_type": "execute_result"
    }
   ],
   "source": [
    "cline()"
   ]
  },
  {
   "cell_type": "code",
   "execution_count": 5,
   "metadata": {},
   "outputs": [],
   "source": [
    "from Bio import AlignIO"
   ]
  },
  {
   "cell_type": "code",
   "execution_count": 6,
   "metadata": {},
   "outputs": [],
   "source": [
    "align = AlignIO.read(\"./data/TRIM5ALPHA_complete_PopSet.aln\",\"clustal\")"
   ]
  },
  {
   "cell_type": "code",
   "execution_count": 7,
   "metadata": {},
   "outputs": [
    {
     "name": "stdout",
     "output_type": "stream",
     "text": [
      "SingleLetterAlphabet() alignment with 17 rows and 2358 columns\n",
      "ATGGCTTCTGGAATCCTGGTTAATGTAAAGGAGGAGGTGACCTG...TGA AY843506.1\n",
      "ATGGCTTCTGGAATCCTGGTTAATGTAAAGGAGGAGGTGACCTG...TGA AY843510.1\n",
      "ATGGCTTCTGGAATCCTGGTTAATGTAAAGGAGAAGGTGACCTG...TGA AY843509.1\n",
      "ATGGCTTCTGGAATCCTGGTTAATGTAAAGGAGGAGGTGACCTG...TGA AY843513.1\n",
      "ATGGCTTCTGGAATCCTGCTTAATGTAAAGGAGGAGGTGACCTG...TGA AY843504.1\n",
      "ATGGCTTCTGGAATCCTGCTTAATGTAAAGGAGGAGGTGACCTG...TGA AY843505.1\n",
      "ATGGCTTCTGGAATCCTGCTTAATGTAAAGGAGGAGGTGACCTG...TGA AY843514.1\n",
      "ATGGCTTCTGGAATCCTGGTTAATATAAAGGAGGAGGTGACCTG...TGA AY843507.1\n",
      "ATGGCTTCTGGAATCCTGGTTAATATAAAGGAGGAGGTGACCTG...TGA AY843508.1\n",
      "ATGGCTTCCGAAATCCTGTTGAATATAAAGGAGGAGGTGACCTG...TGA AY843516.1\n",
      "ATGGCTTCCGAAATCCTGGTGAATATAAAGGAGGAGGTGACCTG...TGA AY843520.1\n",
      "ATGGCTTCCAAAATCCTGGTGAATATAAAGGAGGAGGTGACCTG...TGA AY843511.1\n",
      "ATGGCTTCCAGAATCCTGGTGAATATAAAGGAGGAGGTAACCTG...TGA AY843512.1\n",
      "ATGGCTTCCAGAATCCTGGTGAATATAAAGGAGGAGGTGACCTG...TGA AY843518.1\n",
      "ATGGCTTCCAGAATCCTGATGAACATAAAGGAGGAGGTGACCTG...TGA AY843515.1\n",
      "ATGGCTTCCAGAATCCTGGTGAATATAAAGGAGGAGGTGACCTG...TGA AY843519.1\n",
      "ATGGCTTCCAGAATCCTGGGGAGTATAAAGGAGGAGGTGACCTG...TGA AY843517.1\n"
     ]
    }
   ],
   "source": [
    "print(align)"
   ]
  },
  {
   "cell_type": "code",
   "execution_count": 8,
   "metadata": {},
   "outputs": [],
   "source": [
    "from Bio import Phylo\n",
    "tree = Phylo.read(\"./data/TRIM5ALPHA_complete_PopSet.dnd\", \"newick\")"
   ]
  },
  {
   "cell_type": "code",
   "execution_count": 9,
   "metadata": {},
   "outputs": [
    {
     "name": "stdout",
     "output_type": "stream",
     "text": [
      "  __ AY843504.1\n",
      " |\n",
      " |_ AY843505.1\n",
      " |\n",
      " |                  , AY843506.1\n",
      " |                __|\n",
      " |               |  |_ AY843510.1\n",
      " |            ___|\n",
      " |           |   |_______ AY843509.1\n",
      " |           |   |\n",
      " |           |   |____ AY843513.1\n",
      " |           |\n",
      " |    _______|                                    _______________ AY843511.1\n",
      "_|   |       |                                  ,|\n",
      " |   |       |                                  ||     ____ AY843516.1\n",
      " |   |       |                                  ||____|\n",
      " |   |       |                                  |     |______ AY843520.1\n",
      " |   |       |                                  |\n",
      " |   |       |__________________________________|      ______ AY843512.1\n",
      " |   |                                          | ____|\n",
      " | __|                                          ||    |______ AY843518.1\n",
      " ||  |                                          ||\n",
      " ||  |                                          ||   ______ AY843515.1\n",
      " ||  |                                          ||__|\n",
      " ||  |                                           |  |_______ AY843519.1\n",
      " ||  |                                           |\n",
      " ||  |                                           |______________ AY843517.1\n",
      "  |  |\n",
      "  |  |, AY843507.1\n",
      "  |  ||\n",
      "  |   |_ AY843508.1\n",
      "  |\n",
      "  |___ AY843514.1\n",
      "\n"
     ]
    }
   ],
   "source": [
    "Phylo.draw_ascii(tree)"
   ]
  },
  {
   "cell_type": "code",
   "execution_count": 12,
   "metadata": {
    "scrolled": true
   },
   "outputs": [],
   "source": [
    "##Phylo.draw_graphviz(tree)"
   ]
  },
  {
   "cell_type": "code",
   "execution_count": null,
   "metadata": {},
   "outputs": [],
   "source": []
  }
 ],
 "metadata": {
  "kernelspec": {
   "display_name": "Python 3",
   "language": "python",
   "name": "python3"
  },
  "language_info": {
   "codemirror_mode": {
    "name": "ipython",
    "version": 3
   },
   "file_extension": ".py",
   "mimetype": "text/x-python",
   "name": "python",
   "nbconvert_exporter": "python",
   "pygments_lexer": "ipython3",
   "version": "3.5.2"
  }
 },
 "nbformat": 4,
 "nbformat_minor": 2
}
