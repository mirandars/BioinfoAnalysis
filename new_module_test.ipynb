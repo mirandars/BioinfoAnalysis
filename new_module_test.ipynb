{
 "cells": [
  {
   "cell_type": "code",
   "execution_count": 1,
   "metadata": {},
   "outputs": [],
   "source": [
    "import draft\n",
    "import pandas as pd"
   ]
  },
  {
   "cell_type": "code",
   "execution_count": 2,
   "metadata": {},
   "outputs": [],
   "source": [
    "dic = draft.clean_data(\"./data/TRIM5ALPHA_complete_PopSet\")"
   ]
  },
  {
   "cell_type": "code",
   "execution_count": 3,
   "metadata": {},
   "outputs": [
    {
     "ename": "ValueError",
     "evalue": "Cannot index with multidimensional key",
     "output_type": "error",
     "traceback": [
      "\u001b[0;31m---------------------------------------------------------------------------\u001b[0m",
      "\u001b[0;31mValueError\u001b[0m                                Traceback (most recent call last)",
      "\u001b[0;32m<ipython-input-3-c918d597b51b>\u001b[0m in \u001b[0;36m<module>\u001b[0;34m\u001b[0m\n\u001b[1;32m      2\u001b[0m \u001b[0;34m\u001b[0m\u001b[0m\n\u001b[1;32m      3\u001b[0m \u001b[0;32mfor\u001b[0m \u001b[0mkey\u001b[0m \u001b[0;32min\u001b[0m \u001b[0mdic\u001b[0m\u001b[0;34m:\u001b[0m\u001b[0;34m\u001b[0m\u001b[0;34m\u001b[0m\u001b[0m\n\u001b[0;32m----> 4\u001b[0;31m     \u001b[0mx\u001b[0m \u001b[0;34m=\u001b[0m \u001b[0mdraft\u001b[0m\u001b[0;34m.\u001b[0m\u001b[0mSpecies\u001b[0m\u001b[0;34m(\u001b[0m\u001b[0mkey\u001b[0m\u001b[0;34m.\u001b[0m\u001b[0msplit\u001b[0m\u001b[0;34m(\u001b[0m\u001b[0;34m' '\u001b[0m\u001b[0;34m)\u001b[0m\u001b[0;34m[\u001b[0m\u001b[0;36m1\u001b[0m\u001b[0;34m]\u001b[0m \u001b[0;34m+\u001b[0m \u001b[0;34m' '\u001b[0m \u001b[0;34m+\u001b[0m \u001b[0mkey\u001b[0m\u001b[0;34m.\u001b[0m\u001b[0msplit\u001b[0m\u001b[0;34m(\u001b[0m\u001b[0;34m' '\u001b[0m\u001b[0;34m)\u001b[0m\u001b[0;34m[\u001b[0m\u001b[0;36m2\u001b[0m\u001b[0;34m]\u001b[0m\u001b[0;34m,\u001b[0m \u001b[0mkey\u001b[0m\u001b[0;34m.\u001b[0m\u001b[0msplit\u001b[0m\u001b[0;34m(\u001b[0m\u001b[0;34m' '\u001b[0m\u001b[0;34m)\u001b[0m\u001b[0;34m[\u001b[0m\u001b[0;36m0\u001b[0m\u001b[0;34m]\u001b[0m\u001b[0;34m,\u001b[0m\u001b[0mdic\u001b[0m\u001b[0;34m[\u001b[0m\u001b[0mkey\u001b[0m\u001b[0;34m]\u001b[0m\u001b[0;34m)\u001b[0m\u001b[0;34m\u001b[0m\u001b[0;34m\u001b[0m\u001b[0m\n\u001b[0m\u001b[1;32m      5\u001b[0m     \u001b[0mspecies_list\u001b[0m\u001b[0;34m.\u001b[0m\u001b[0mappend\u001b[0m\u001b[0;34m(\u001b[0m\u001b[0mx\u001b[0m\u001b[0;34m)\u001b[0m\u001b[0;34m\u001b[0m\u001b[0;34m\u001b[0m\u001b[0m\n",
      "\u001b[0;32m~/code/BioinfoAnalysis/draft.py\u001b[0m in \u001b[0;36m__init__\u001b[0;34m(self, name, accession_number, sequence)\u001b[0m\n\u001b[1;32m     86\u001b[0m         \u001b[0mself\u001b[0m\u001b[0;34m.\u001b[0m\u001b[0msplit_seq\u001b[0m \u001b[0;34m=\u001b[0m \u001b[0mself\u001b[0m\u001b[0;34m.\u001b[0m\u001b[0msplit_sequence\u001b[0m\u001b[0;34m(\u001b[0m\u001b[0;36m24\u001b[0m\u001b[0;34m)\u001b[0m\u001b[0;34m\u001b[0m\u001b[0;34m\u001b[0m\u001b[0m\n\u001b[1;32m     87\u001b[0m         \u001b[0mself\u001b[0m\u001b[0;34m.\u001b[0m\u001b[0mcodon_freq_df\u001b[0m \u001b[0;34m=\u001b[0m \u001b[0mself\u001b[0m\u001b[0;34m.\u001b[0m\u001b[0mcodon_freq\u001b[0m\u001b[0;34m(\u001b[0m\u001b[0;34m)\u001b[0m\u001b[0;34m\u001b[0m\u001b[0;34m\u001b[0m\u001b[0m\n\u001b[0;32m---> 88\u001b[0;31m         \u001b[0mself\u001b[0m\u001b[0;34m.\u001b[0m\u001b[0mprincipal_components\u001b[0m \u001b[0;34m=\u001b[0m \u001b[0mpca_2d\u001b[0m\u001b[0;34m(\u001b[0m\u001b[0mself\u001b[0m\u001b[0;34m.\u001b[0m\u001b[0mcodon_freq_df\u001b[0m\u001b[0;34m)\u001b[0m\u001b[0;34m\u001b[0m\u001b[0;34m\u001b[0m\u001b[0m\n\u001b[0m\u001b[1;32m     89\u001b[0m         \u001b[0mself\u001b[0m\u001b[0;34m.\u001b[0m\u001b[0mtsne_results\u001b[0m \u001b[0;34m=\u001b[0m \u001b[0mt_SNE\u001b[0m\u001b[0;34m(\u001b[0m\u001b[0mself\u001b[0m\u001b[0;34m.\u001b[0m\u001b[0mcodon_freq_df\u001b[0m\u001b[0;34m)\u001b[0m\u001b[0;34m\u001b[0m\u001b[0;34m\u001b[0m\u001b[0m\n\u001b[1;32m     90\u001b[0m \u001b[0;34m\u001b[0m\u001b[0m\n",
      "\u001b[0;32m~/code/BioinfoAnalysis/draft.py\u001b[0m in \u001b[0;36mpca_2d\u001b[0;34m(df)\u001b[0m\n\u001b[1;32m     14\u001b[0m \u001b[0;34m\u001b[0m\u001b[0m\n\u001b[1;32m     15\u001b[0m \u001b[0;32mdef\u001b[0m \u001b[0mpca_2d\u001b[0m\u001b[0;34m(\u001b[0m\u001b[0mdf\u001b[0m\u001b[0;34m)\u001b[0m\u001b[0;34m:\u001b[0m\u001b[0;34m\u001b[0m\u001b[0;34m\u001b[0m\u001b[0m\n\u001b[0;32m---> 16\u001b[0;31m     \u001b[0mX\u001b[0m \u001b[0;34m=\u001b[0m \u001b[0mdf\u001b[0m\u001b[0;34m.\u001b[0m\u001b[0mloc\u001b[0m\u001b[0;34m[\u001b[0m\u001b[0;34m:\u001b[0m\u001b[0;34m,\u001b[0m \u001b[0mdf\u001b[0m \u001b[0;34m!=\u001b[0m \u001b[0;34m(\u001b[0m\u001b[0;34m'Fragment'\u001b[0m \u001b[0;32mand\u001b[0m \u001b[0;34m'labels'\u001b[0m\u001b[0;34m)\u001b[0m\u001b[0;34m]\u001b[0m\u001b[0;34m.\u001b[0m\u001b[0mvalues\u001b[0m\u001b[0;34m\u001b[0m\u001b[0;34m\u001b[0m\u001b[0m\n\u001b[0m\u001b[1;32m     17\u001b[0m     \u001b[0mX\u001b[0m \u001b[0;34m=\u001b[0m \u001b[0mStandardScaler\u001b[0m\u001b[0;34m(\u001b[0m\u001b[0;34m)\u001b[0m\u001b[0;34m.\u001b[0m\u001b[0mfit_transform\u001b[0m\u001b[0;34m(\u001b[0m\u001b[0mX\u001b[0m\u001b[0;34m)\u001b[0m\u001b[0;34m\u001b[0m\u001b[0;34m\u001b[0m\u001b[0m\n\u001b[1;32m     18\u001b[0m     \u001b[0my\u001b[0m \u001b[0;34m=\u001b[0m \u001b[0mdf\u001b[0m\u001b[0;34m.\u001b[0m\u001b[0mloc\u001b[0m\u001b[0;34m[\u001b[0m\u001b[0;34m:\u001b[0m\u001b[0;34m,\u001b[0m \u001b[0mdf\u001b[0m\u001b[0;34m.\u001b[0m\u001b[0mcolumns\u001b[0m \u001b[0;34m==\u001b[0m \u001b[0;34m'Fragment'\u001b[0m\u001b[0;34m]\u001b[0m\u001b[0;34m.\u001b[0m\u001b[0mvalues\u001b[0m\u001b[0;34m\u001b[0m\u001b[0;34m\u001b[0m\u001b[0m\n",
      "\u001b[0;32m/usr/lib/python3.7/site-packages/pandas/core/indexing.py\u001b[0m in \u001b[0;36m__getitem__\u001b[0;34m(self, key)\u001b[0m\n\u001b[1;32m   1470\u001b[0m             \u001b[0;32mexcept\u001b[0m \u001b[0;34m(\u001b[0m\u001b[0mKeyError\u001b[0m\u001b[0;34m,\u001b[0m \u001b[0mIndexError\u001b[0m\u001b[0;34m)\u001b[0m\u001b[0;34m:\u001b[0m\u001b[0;34m\u001b[0m\u001b[0;34m\u001b[0m\u001b[0m\n\u001b[1;32m   1471\u001b[0m                 \u001b[0;32mpass\u001b[0m\u001b[0;34m\u001b[0m\u001b[0;34m\u001b[0m\u001b[0m\n\u001b[0;32m-> 1472\u001b[0;31m             \u001b[0;32mreturn\u001b[0m \u001b[0mself\u001b[0m\u001b[0;34m.\u001b[0m\u001b[0m_getitem_tuple\u001b[0m\u001b[0;34m(\u001b[0m\u001b[0mkey\u001b[0m\u001b[0;34m)\u001b[0m\u001b[0;34m\u001b[0m\u001b[0;34m\u001b[0m\u001b[0m\n\u001b[0m\u001b[1;32m   1473\u001b[0m         \u001b[0;32melse\u001b[0m\u001b[0;34m:\u001b[0m\u001b[0;34m\u001b[0m\u001b[0;34m\u001b[0m\u001b[0m\n\u001b[1;32m   1474\u001b[0m             \u001b[0;31m# we by definition only have the 0th axis\u001b[0m\u001b[0;34m\u001b[0m\u001b[0;34m\u001b[0m\u001b[0;34m\u001b[0m\u001b[0m\n",
      "\u001b[0;32m/usr/lib/python3.7/site-packages/pandas/core/indexing.py\u001b[0m in \u001b[0;36m_getitem_tuple\u001b[0;34m(self, tup)\u001b[0m\n\u001b[1;32m    888\u001b[0m                 \u001b[0;32mcontinue\u001b[0m\u001b[0;34m\u001b[0m\u001b[0;34m\u001b[0m\u001b[0m\n\u001b[1;32m    889\u001b[0m \u001b[0;34m\u001b[0m\u001b[0m\n\u001b[0;32m--> 890\u001b[0;31m             \u001b[0mretval\u001b[0m \u001b[0;34m=\u001b[0m \u001b[0mgetattr\u001b[0m\u001b[0;34m(\u001b[0m\u001b[0mretval\u001b[0m\u001b[0;34m,\u001b[0m \u001b[0mself\u001b[0m\u001b[0;34m.\u001b[0m\u001b[0mname\u001b[0m\u001b[0;34m)\u001b[0m\u001b[0;34m.\u001b[0m\u001b[0m_getitem_axis\u001b[0m\u001b[0;34m(\u001b[0m\u001b[0mkey\u001b[0m\u001b[0;34m,\u001b[0m \u001b[0maxis\u001b[0m\u001b[0;34m=\u001b[0m\u001b[0mi\u001b[0m\u001b[0;34m)\u001b[0m\u001b[0;34m\u001b[0m\u001b[0;34m\u001b[0m\u001b[0m\n\u001b[0m\u001b[1;32m    891\u001b[0m \u001b[0;34m\u001b[0m\u001b[0m\n\u001b[1;32m    892\u001b[0m         \u001b[0;32mreturn\u001b[0m \u001b[0mretval\u001b[0m\u001b[0;34m\u001b[0m\u001b[0;34m\u001b[0m\u001b[0m\n",
      "\u001b[0;32m/usr/lib/python3.7/site-packages/pandas/core/indexing.py\u001b[0m in \u001b[0;36m_getitem_axis\u001b[0;34m(self, key, axis)\u001b[0m\n\u001b[1;32m   1897\u001b[0m \u001b[0;34m\u001b[0m\u001b[0m\n\u001b[1;32m   1898\u001b[0m                 \u001b[0;32mif\u001b[0m \u001b[0mhasattr\u001b[0m\u001b[0;34m(\u001b[0m\u001b[0mkey\u001b[0m\u001b[0;34m,\u001b[0m \u001b[0;34m'ndim'\u001b[0m\u001b[0;34m)\u001b[0m \u001b[0;32mand\u001b[0m \u001b[0mkey\u001b[0m\u001b[0;34m.\u001b[0m\u001b[0mndim\u001b[0m \u001b[0;34m>\u001b[0m \u001b[0;36m1\u001b[0m\u001b[0;34m:\u001b[0m\u001b[0;34m\u001b[0m\u001b[0;34m\u001b[0m\u001b[0m\n\u001b[0;32m-> 1899\u001b[0;31m                     \u001b[0;32mraise\u001b[0m \u001b[0mValueError\u001b[0m\u001b[0;34m(\u001b[0m\u001b[0;34m'Cannot index with multidimensional key'\u001b[0m\u001b[0;34m)\u001b[0m\u001b[0;34m\u001b[0m\u001b[0;34m\u001b[0m\u001b[0m\n\u001b[0m\u001b[1;32m   1900\u001b[0m \u001b[0;34m\u001b[0m\u001b[0m\n\u001b[1;32m   1901\u001b[0m                 \u001b[0;32mreturn\u001b[0m \u001b[0mself\u001b[0m\u001b[0;34m.\u001b[0m\u001b[0m_getitem_iterable\u001b[0m\u001b[0;34m(\u001b[0m\u001b[0mkey\u001b[0m\u001b[0;34m,\u001b[0m \u001b[0maxis\u001b[0m\u001b[0;34m=\u001b[0m\u001b[0maxis\u001b[0m\u001b[0;34m)\u001b[0m\u001b[0;34m\u001b[0m\u001b[0;34m\u001b[0m\u001b[0m\n",
      "\u001b[0;31mValueError\u001b[0m: Cannot index with multidimensional key"
     ]
    }
   ],
   "source": [
    "species_list = []\n",
    "\n",
    "for key in dic:\n",
    "    x = draft.Species(key.split(' ')[1] + ' ' + key.split(' ')[2], key.split(' ')[0],dic[key])\n",
    "    species_list.append(x)"
   ]
  },
  {
   "cell_type": "code",
   "execution_count": 5,
   "metadata": {},
   "outputs": [
    {
     "data": {
      "text/plain": [
       "[<draft.Species at 0x7f8a47725c88>,\n",
       " <draft.Species at 0x7f8a109d5b00>,\n",
       " <draft.Species at 0x7f8a0fe48278>,\n",
       " <draft.Species at 0x7f8a11d0c668>,\n",
       " <draft.Species at 0x7f8a0fe3dc50>,\n",
       " <draft.Species at 0x7f8a0fe48f98>,\n",
       " <draft.Species at 0x7f8a0fe3d8d0>,\n",
       " <draft.Species at 0x7f8a0fe48c18>,\n",
       " <draft.Species at 0x7f8a0fe3d860>,\n",
       " <draft.Species at 0x7f8a0fd71a58>,\n",
       " <draft.Species at 0x7f8a0fe3def0>,\n",
       " <draft.Species at 0x7f8a0fd717b8>,\n",
       " <draft.Species at 0x7f8a0fe48b38>,\n",
       " <draft.Species at 0x7f8a0fd71b38>,\n",
       " <draft.Species at 0x7f8a0fe48438>,\n",
       " <draft.Species at 0x7f8a0fe3de10>,\n",
       " <draft.Species at 0x7f8a0fe48a58>]"
      ]
     },
     "execution_count": 5,
     "metadata": {},
     "output_type": "execute_result"
    }
   ],
   "source": [
    "species_list"
   ]
  },
  {
   "cell_type": "code",
   "execution_count": 8,
   "metadata": {},
   "outputs": [
    {
     "data": {
      "text/html": [
       "<div>\n",
       "<style scoped>\n",
       "    .dataframe tbody tr th:only-of-type {\n",
       "        vertical-align: middle;\n",
       "    }\n",
       "\n",
       "    .dataframe tbody tr th {\n",
       "        vertical-align: top;\n",
       "    }\n",
       "\n",
       "    .dataframe thead th {\n",
       "        text-align: right;\n",
       "    }\n",
       "</style>\n",
       "<table border=\"1\" class=\"dataframe\">\n",
       "  <thead>\n",
       "    <tr style=\"text-align: right;\">\n",
       "      <th></th>\n",
       "      <th>0</th>\n",
       "    </tr>\n",
       "  </thead>\n",
       "  <tbody>\n",
       "    <tr>\n",
       "      <th>AY843504.1 Chlorocebus aethiops TRIM5alpha (TRIM5) gene, complete cds</th>\n",
       "      <td>ATGGCTTCTGGAATCCTGCTTAATGTAAAGGAGGAGGTGACCTGTC...</td>\n",
       "    </tr>\n",
       "    <tr>\n",
       "      <th>AY843505.1 Papio anubis TRIM5alpha (TRIM5) gene, complete cds</th>\n",
       "      <td>ATGGCTTCTGGAATCCTGCTTAATGTAAAGGAGGAGGTGACCTGTC...</td>\n",
       "    </tr>\n",
       "    <tr>\n",
       "      <th>AY843506.1 Pan troglodytes TRIM5alpha (TRIM5) gene, complete cds</th>\n",
       "      <td>ATGGCTTCTGGAATCCTGGTTAATGTAAAGGAGGAGGTGACCTGCC...</td>\n",
       "    </tr>\n",
       "    <tr>\n",
       "      <th>AY843507.1 Colobus guereza TRIM5alpha (TRIM5) gene, complete cds</th>\n",
       "      <td>ATGGCTTCTGGAATCCTGGTTAATATAAAGGAGGAGGTGACCTGCC...</td>\n",
       "    </tr>\n",
       "    <tr>\n",
       "      <th>AY843508.1 Pygathrix nemaeus TRIM5alpha (TRIM5) gene, complete cds</th>\n",
       "      <td>ATGGCTTCTGGAATCCTGGTTAATATAAAGGAGGAGGTGACCTGCC...</td>\n",
       "    </tr>\n",
       "    <tr>\n",
       "      <th>AY843509.1 Symphalangus syndactylus TRIM5alpha (TRIM5) gene, complete cds</th>\n",
       "      <td>ATGGCTTCTGGAATCCTGGTTAATGTAAAGGAGAAGGTGACCTGCC...</td>\n",
       "    </tr>\n",
       "    <tr>\n",
       "      <th>AY843510.1 Gorilla gorilla TRIM5alpha (TRIM5) gene, complete cds</th>\n",
       "      <td>ATGGCTTCTGGAATCCTGGTTAATGTAAAGGAGGAGGTGACCTGCC...</td>\n",
       "    </tr>\n",
       "    <tr>\n",
       "      <th>AY843511.1 Alouatta sara TRIM5alpha (TRIM5) gene, complete cds</th>\n",
       "      <td>ATGGCTTCCAAAATCCTGGTGAATATAAAGGAGGAGGTGACCTGCC...</td>\n",
       "    </tr>\n",
       "    <tr>\n",
       "      <th>AY843512.1 Callithrix pygmaea TRIM5alpha (TRIM5) gene, complete cds</th>\n",
       "      <td>ATGGCTTCCAGAATCCTGGTGAATATAAAGGAGGAGGTAACCTGCC...</td>\n",
       "    </tr>\n",
       "    <tr>\n",
       "      <th>AY843513.1 Pongo pygmaeus TRIM5alpha (TRIM5) gene, complete cds</th>\n",
       "      <td>ATGGCTTCTGGAATCCTGGTTAATGTAAAGGAGGAGGTGACCTGCC...</td>\n",
       "    </tr>\n",
       "    <tr>\n",
       "      <th>AY843514.1 Erythrocebus patas TRIM5alpha (TRIM5) gene, complete cds</th>\n",
       "      <td>ATGGCTTCTGGAATCCTGCTTAATGTAAAGGAGGAGGTGACCTGTC...</td>\n",
       "    </tr>\n",
       "    <tr>\n",
       "      <th>AY843515.1 Pithecia pithecia TRIM5alpha (TRIM5) gene, complete cds</th>\n",
       "      <td>ATGGCTTCCAGAATCCTGATGAACATAAAGGAGGAGGTGACCTGCC...</td>\n",
       "    </tr>\n",
       "    <tr>\n",
       "      <th>AY843516.1 Ateles geoffroyi TRIM5alpha (TRIM5) gene, complete cds</th>\n",
       "      <td>ATGGCTTCCGAAATCCTGTTGAATATAAAGGAGGAGGTGACCTGCC...</td>\n",
       "    </tr>\n",
       "    <tr>\n",
       "      <th>AY843517.1 Saimiri sciureus TRIM5alpha (TRIM5) gene, complete cds</th>\n",
       "      <td>ATGGCTTCCAGAATCCTGGGGAGTATAAAGGAGGAGGTGACCTGCC...</td>\n",
       "    </tr>\n",
       "    <tr>\n",
       "      <th>AY843518.1 Saguinus labiatus TRIM5alpha (TRIM5) gene, complete cds</th>\n",
       "      <td>ATGGCTTCCAGAATCCTGGTGAATATAAAGGAGGAGGTGACCTGCC...</td>\n",
       "    </tr>\n",
       "    <tr>\n",
       "      <th>AY843519.1 Callicebus donacophilus TRIM5alpha (TRIM5) gene, complete cds</th>\n",
       "      <td>ATGGCTTCCAGAATCCTGGTGAATATAAAGGAGGAGGTGACCTGCC...</td>\n",
       "    </tr>\n",
       "    <tr>\n",
       "      <th>AY843520.1 Lagothrix lagotricha TRIM5alpha (TRIM5) gene, complete cds</th>\n",
       "      <td>ATGGCTTCCGAAATCCTGGTGAATATAAAGGAGGAGGTGACCTGCC...</td>\n",
       "    </tr>\n",
       "  </tbody>\n",
       "</table>\n",
       "</div>"
      ],
      "text/plain": [
       "                                                                                                    0\n",
       "AY843504.1 Chlorocebus aethiops TRIM5alpha (TRI...  ATGGCTTCTGGAATCCTGCTTAATGTAAAGGAGGAGGTGACCTGTC...\n",
       "AY843505.1 Papio anubis TRIM5alpha (TRIM5) gene...  ATGGCTTCTGGAATCCTGCTTAATGTAAAGGAGGAGGTGACCTGTC...\n",
       "AY843506.1 Pan troglodytes TRIM5alpha (TRIM5) g...  ATGGCTTCTGGAATCCTGGTTAATGTAAAGGAGGAGGTGACCTGCC...\n",
       "AY843507.1 Colobus guereza TRIM5alpha (TRIM5) g...  ATGGCTTCTGGAATCCTGGTTAATATAAAGGAGGAGGTGACCTGCC...\n",
       "AY843508.1 Pygathrix nemaeus TRIM5alpha (TRIM5)...  ATGGCTTCTGGAATCCTGGTTAATATAAAGGAGGAGGTGACCTGCC...\n",
       "AY843509.1 Symphalangus syndactylus TRIM5alpha ...  ATGGCTTCTGGAATCCTGGTTAATGTAAAGGAGAAGGTGACCTGCC...\n",
       "AY843510.1 Gorilla gorilla TRIM5alpha (TRIM5) g...  ATGGCTTCTGGAATCCTGGTTAATGTAAAGGAGGAGGTGACCTGCC...\n",
       "AY843511.1 Alouatta sara TRIM5alpha (TRIM5) gen...  ATGGCTTCCAAAATCCTGGTGAATATAAAGGAGGAGGTGACCTGCC...\n",
       "AY843512.1 Callithrix pygmaea TRIM5alpha (TRIM5...  ATGGCTTCCAGAATCCTGGTGAATATAAAGGAGGAGGTAACCTGCC...\n",
       "AY843513.1 Pongo pygmaeus TRIM5alpha (TRIM5) ge...  ATGGCTTCTGGAATCCTGGTTAATGTAAAGGAGGAGGTGACCTGCC...\n",
       "AY843514.1 Erythrocebus patas TRIM5alpha (TRIM5...  ATGGCTTCTGGAATCCTGCTTAATGTAAAGGAGGAGGTGACCTGTC...\n",
       "AY843515.1 Pithecia pithecia TRIM5alpha (TRIM5)...  ATGGCTTCCAGAATCCTGATGAACATAAAGGAGGAGGTGACCTGCC...\n",
       "AY843516.1 Ateles geoffroyi TRIM5alpha (TRIM5) ...  ATGGCTTCCGAAATCCTGTTGAATATAAAGGAGGAGGTGACCTGCC...\n",
       "AY843517.1 Saimiri sciureus TRIM5alpha (TRIM5) ...  ATGGCTTCCAGAATCCTGGGGAGTATAAAGGAGGAGGTGACCTGCC...\n",
       "AY843518.1 Saguinus labiatus TRIM5alpha (TRIM5)...  ATGGCTTCCAGAATCCTGGTGAATATAAAGGAGGAGGTGACCTGCC...\n",
       "AY843519.1 Callicebus donacophilus TRIM5alpha (...  ATGGCTTCCAGAATCCTGGTGAATATAAAGGAGGAGGTGACCTGCC...\n",
       "AY843520.1 Lagothrix lagotricha TRIM5alpha (TRI...  ATGGCTTCCGAAATCCTGGTGAATATAAAGGAGGAGGTGACCTGCC..."
      ]
     },
     "execution_count": 8,
     "metadata": {},
     "output_type": "execute_result"
    }
   ],
   "source": [
    "pd.DataFrame.from_dict(dic,orient='index')"
   ]
  },
  {
   "cell_type": "code",
   "execution_count": null,
   "metadata": {},
   "outputs": [],
   "source": [
    "df.columns = ['Sequence']\n",
    "    df = df.reset_index()\n",
    "    df['Accession number'] = df['index'].apply(lambda name: name.split(' ')[0])\n",
    "    df['Species'] = df['index'].apply(lambda name: name.split(' ')[1] + ' ' + name.split(' ')[2])\n",
    "    df = df[['Accession number','Species','Sequence']]\n",
    "    df = df.set_index('Species')\n",
    "df.reset_index(level=0, inplace=True)"
   ]
  }
 ],
 "metadata": {
  "kernelspec": {
   "display_name": "Python 3",
   "language": "python",
   "name": "python3"
  },
  "language_info": {
   "codemirror_mode": {
    "name": "ipython",
    "version": 3
   },
   "file_extension": ".py",
   "mimetype": "text/x-python",
   "name": "python",
   "nbconvert_exporter": "python",
   "pygments_lexer": "ipython3",
   "version": "3.7.1"
  }
 },
 "nbformat": 4,
 "nbformat_minor": 2
}
