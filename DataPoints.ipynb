{
 "cells": [
  {
   "cell_type": "code",
   "execution_count": 97,
   "metadata": {},
   "outputs": [],
   "source": [
    "import pandas as pd\n",
    "import numpy as np\n"
   ]
  },
  {
   "cell_type": "code",
   "execution_count": 98,
   "metadata": {},
   "outputs": [],
   "source": [
    "#Importamos o data frame criado anteriormente\n",
    "data = pd.read_csv('Data.csv')"
   ]
  },
  {
   "cell_type": "code",
   "execution_count": null,
   "metadata": {},
   "outputs": [],
   "source": [
    "#Nossos datapoints serão a contagem das 'palavras' (codons) de 1, 2, 3 ou 4 letras,\n",
    "#em cada um dos fragmentos com FragSize letras do DNA."
   ]
  },
  {
   "cell_type": "code",
   "execution_count": 100,
   "metadata": {},
   "outputs": [],
   "source": [
    "#Data points. Create a new matrix with same size fragments of a DNAseq\n",
    "def DNA_frag(DNAseq, FragSize):\n",
    "    pos = 0\n",
    "    frags = []\n",
    "    for i in range(1, int(len(DNAseq)/Frag_Size)+2): #1+1=2, 1 para arredondar para cima e +1 para o range alcançar toda sequência\n",
    "        new_frag = DNAseq[pos:i*Frag_Size]\n",
    "        frags.append(new_frag)\n",
    "        i += 1\n",
    "        pos = pos + Frag_Size\n",
    "    np.transpose(frags)\n",
    "    return frags\n",
    "\n",
    "#Usaremos a função para quebrar nossa sequencia de DNA em fragmentos de tamanho 300 e \n",
    "#contaremos a frequência de codons usando a função Codon_Freq"
   ]
  },
  {
   "cell_type": "code",
   "execution_count": null,
   "metadata": {},
   "outputs": [],
   "source": [
    "def Codon_Freq(Frags, Codon_Size):\n",
    "    Amino_acids = 'ACTG' \n",
    "    Codons = []\n",
    "    "
   ]
  },
  {
   "cell_type": "code",
   "execution_count": 87,
   "metadata": {},
   "outputs": [
    {
     "data": {
      "text/plain": [
       "50"
      ]
     },
     "execution_count": 87,
     "metadata": {},
     "output_type": "execute_result"
    }
   ],
   "source": [
    "a= 'renatalindabonitaIDJOASDHUHASIDUASJDNASUIPASBDFPIU'\n",
    "len(a)\n"
   ]
  },
  {
   "cell_type": "code",
   "execution_count": 88,
   "metadata": {},
   "outputs": [
    {
     "data": {
      "text/plain": [
       "['renatal',\n",
       " 'indabon',\n",
       " 'itaIDJO',\n",
       " 'ASDHUHA',\n",
       " 'SIDUASJ',\n",
       " 'DNASUIP',\n",
       " 'ASBDFPI',\n",
       " 'U']"
      ]
     },
     "execution_count": 88,
     "metadata": {},
     "output_type": "execute_result"
    }
   ],
   "source": [
    "#Exemplo\n",
    "DNA_frag(a,7)"
   ]
  },
  {
   "cell_type": "code",
   "execution_count": null,
   "metadata": {},
   "outputs": [],
   "source": []
  }
 ],
 "metadata": {
  "kernelspec": {
   "display_name": "Python 3",
   "language": "python",
   "name": "python3"
  },
  "language_info": {
   "codemirror_mode": {
    "name": "ipython",
    "version": 3
   },
   "file_extension": ".py",
   "mimetype": "text/x-python",
   "name": "python",
   "nbconvert_exporter": "python",
   "pygments_lexer": "ipython3",
   "version": "3.5.2"
  }
 },
 "nbformat": 4,
 "nbformat_minor": 2
}
